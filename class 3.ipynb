{
 "cells": [
  {
   "cell_type": "code",
   "execution_count": 1,
   "metadata": {},
   "outputs": [
    {
     "data": {
      "text/plain": [
       "','"
      ]
     },
     "execution_count": 1,
     "metadata": {},
     "output_type": "execute_result"
    }
   ],
   "source": [
    "str = \"hello, world\"\n",
    "str[5]"
   ]
  },
  {
   "cell_type": "code",
   "execution_count": 2,
   "metadata": {},
   "outputs": [
    {
     "data": {
      "text/plain": [
       "12"
      ]
     },
     "execution_count": 2,
     "metadata": {},
     "output_type": "execute_result"
    }
   ],
   "source": [
    "len(str)"
   ]
  },
  {
   "cell_type": "code",
   "execution_count": 3,
   "metadata": {},
   "outputs": [
    {
     "ename": "IndexError",
     "evalue": "string index out of range",
     "output_type": "error",
     "traceback": [
      "\u001b[1;31m---------------------------------------------------------------------------\u001b[0m",
      "\u001b[1;31mIndexError\u001b[0m                                Traceback (most recent call last)",
      "\u001b[1;32m<ipython-input-3-94c47cdc5cea>\u001b[0m in \u001b[0;36m<module>\u001b[1;34m\u001b[0m\n\u001b[1;32m----> 1\u001b[1;33m \u001b[0mstr\u001b[0m\u001b[1;33m[\u001b[0m\u001b[1;36m13\u001b[0m\u001b[1;33m]\u001b[0m\u001b[1;33m\u001b[0m\u001b[1;33m\u001b[0m\u001b[0m\n\u001b[0m",
      "\u001b[1;31mIndexError\u001b[0m: string index out of range"
     ]
    }
   ],
   "source": [
    "str[13]"
   ]
  },
  {
   "cell_type": "code",
   "execution_count": 4,
   "metadata": {},
   "outputs": [
    {
     "data": {
      "text/plain": [
       "'w'"
      ]
     },
     "execution_count": 4,
     "metadata": {},
     "output_type": "execute_result"
    }
   ],
   "source": [
    "max(str)"
   ]
  },
  {
   "cell_type": "code",
   "execution_count": 5,
   "metadata": {},
   "outputs": [
    {
     "name": "stdout",
     "output_type": "stream",
     "text": [
      "HELLO, WORLD\n"
     ]
    }
   ],
   "source": [
    "print(str.upper())"
   ]
  },
  {
   "cell_type": "code",
   "execution_count": 6,
   "metadata": {},
   "outputs": [
    {
     "name": "stdout",
     "output_type": "stream",
     "text": [
      "hello, world\n"
     ]
    }
   ],
   "source": [
    "print(str.lower())"
   ]
  },
  {
   "cell_type": "code",
   "execution_count": 7,
   "metadata": {},
   "outputs": [
    {
     "name": "stdout",
     "output_type": "stream",
     "text": [
      "Hello, World\n"
     ]
    }
   ],
   "source": [
    "print(str.title())"
   ]
  },
  {
   "cell_type": "code",
   "execution_count": 8,
   "metadata": {},
   "outputs": [
    {
     "name": "stdout",
     "output_type": "stream",
     "text": [
      "hello, yg\n"
     ]
    }
   ],
   "source": [
    "str = 'hello, '\n",
    "name = 'yg'\n",
    "print(str + name)"
   ]
  },
  {
   "cell_type": "code",
   "execution_count": 9,
   "metadata": {},
   "outputs": [
    {
     "data": {
      "text/plain": [
       "'yhello, g'"
      ]
     },
     "execution_count": 9,
     "metadata": {},
     "output_type": "execute_result"
    }
   ],
   "source": [
    "str.join(name)  "
   ]
  },
  {
   "cell_type": "code",
   "execution_count": 10,
   "metadata": {},
   "outputs": [
    {
     "data": {
      "text/plain": [
       "'1+2+3+4+5'"
      ]
     },
     "execution_count": 10,
     "metadata": {},
     "output_type": "execute_result"
    }
   ],
   "source": [
    "numbers = '12345'\n",
    "print('+'.join(numbers))#用“+”连接字符串的各个元素"
   ]
  },
  {
   "cell_type": "code",
   "execution_count": 12,
   "metadata": {},
   "outputs": [
    {
     "name": "stdout",
     "output_type": "stream",
     "text": [
      "hello,world\n"
     ]
    }
   ],
   "source": [
    "print(\"hello,%s\" %'world')"
   ]
  },
  {
   "cell_type": "code",
   "execution_count": 21,
   "metadata": {},
   "outputs": [
    {
     "name": "stdout",
     "output_type": "stream",
     "text": [
      "9 = 3 * 3\n",
      "9 = 3 * 3\n"
     ]
    }
   ],
   "source": [
    "x=3\n",
    "print('{} = {} * {}'.format(x*x,x,x))\n",
    "print('{1} = {0} * {0}'.format(x,x*x))"
   ]
  },
  {
   "cell_type": "code",
   "execution_count": 18,
   "metadata": {},
   "outputs": [
    {
     "name": "stdout",
     "output_type": "stream",
     "text": [
      "my name is yg,my age is 51\n",
      "my name is {name},my age is {age}\n"
     ]
    }
   ],
   "source": [
    "print('my name is {name},my age is {age}'.format(name='yg',age='51'))\n",
    "name = 'yg'\n",
    "age = 51\n",
    "print('my name is {name},my age is {age}')"
   ]
  },
  {
   "cell_type": "code",
   "execution_count": 22,
   "metadata": {},
   "outputs": [
    {
     "data": {
      "text/plain": [
       "'   hello   '"
      ]
     },
     "execution_count": 22,
     "metadata": {},
     "output_type": "execute_result"
    }
   ],
   "source": [
    "\"hello\".center(11)#在两边填上空格"
   ]
  },
  {
   "cell_type": "code",
   "execution_count": 25,
   "metadata": {},
   "outputs": [
    {
     "data": {
      "text/plain": [
       "'***hello***'"
      ]
     },
     "execution_count": 25,
     "metadata": {},
     "output_type": "execute_result"
    }
   ],
   "source": [
    "\"hello\".center(11,'*')"
   ]
  },
  {
   "cell_type": "code",
   "execution_count": 28,
   "metadata": {},
   "outputs": [
    {
     "name": "stdout",
     "output_type": "stream",
     "text": [
      "****************************************\n",
      "*            Hello, world!             *\n",
      "****************************************\n"
     ]
    }
   ],
   "source": [
    "print('*'*40)\n",
    "print('Hello, world!'.center(38).center(40,'*'))\n",
    "print('*'*40)"
   ]
  },
  {
   "cell_type": "code",
   "execution_count": 29,
   "metadata": {},
   "outputs": [
    {
     "name": "stdout",
     "output_type": "stream",
     "text": [
      "19\n"
     ]
    }
   ],
   "source": [
    "file_path = r'd:\\Downloads\\class2.ipynb'\n",
    "index = file_path.find('.')\n",
    "print(index)"
   ]
  },
  {
   "cell_type": "code",
   "execution_count": 32,
   "metadata": {},
   "outputs": [
    {
     "data": {
      "text/plain": [
       "'ipymb'"
      ]
     },
     "execution_count": 32,
     "metadata": {},
     "output_type": "execute_result"
    }
   ],
   "source": [
    "file_path[index + 1:]"
   ]
  },
  {
   "cell_type": "code",
   "execution_count": 33,
   "metadata": {},
   "outputs": [
    {
     "data": {
      "text/plain": [
       "12"
      ]
     },
     "execution_count": 33,
     "metadata": {},
     "output_type": "execute_result"
    }
   ],
   "source": [
    "file_path.rfind('\\\\')#\\\\为转义字符"
   ]
  },
  {
   "cell_type": "code",
   "execution_count": 34,
   "metadata": {},
   "outputs": [
    {
     "data": {
      "text/plain": [
       "'class2'"
      ]
     },
     "execution_count": 34,
     "metadata": {},
     "output_type": "execute_result"
    }
   ],
   "source": [
    "file_path[file_path.rfind('\\\\') + 1:file_path.find('.')]   #切片为前开后闭"
   ]
  },
  {
   "cell_type": "code",
   "execution_count": 35,
   "metadata": {},
   "outputs": [
    {
     "name": "stdout",
     "output_type": "stream",
     "text": [
      "do you like Python?YES\n",
      "Great.\n"
     ]
    }
   ],
   "source": [
    "answer = input('do you like Python?')\n",
    "if answer.lower() == 'yes':\n",
    "    print('Great.')"
   ]
  },
  {
   "cell_type": "code",
   "execution_count": 36,
   "metadata": {},
   "outputs": [
    {
     "data": {
      "text/plain": [
       "'Hello'"
      ]
     },
     "execution_count": 36,
     "metadata": {},
     "output_type": "execute_result"
    }
   ],
   "source": [
    "'hello'.replace('h','H')"
   ]
  },
  {
   "cell_type": "code",
   "execution_count": 42,
   "metadata": {},
   "outputs": [
    {
     "data": {
      "text/plain": [
       "'Hello,yg'"
      ]
     },
     "execution_count": 42,
     "metadata": {},
     "output_type": "execute_result"
    }
   ],
   "source": [
    "'Hello,#name#'.replace('#name#','yg')"
   ]
  },
  {
   "cell_type": "markdown",
   "metadata": {},
   "source": []
  },
  {
   "cell_type": "code",
   "execution_count": 40,
   "metadata": {},
   "outputs": [
    {
     "name": "stdout",
     "output_type": "stream",
     "text": [
      "please input a namelisi\n",
      "90\n"
     ]
    }
   ],
   "source": [
    "names = ['zhangsan','lisi','wangwu','maliu']\n",
    "scores = [100,90,80,70,]\n",
    "name = input ('please input a name')\n",
    "print(scores[names.index(name)])"
   ]
  },
  {
   "cell_type": "code",
   "execution_count": null,
   "metadata": {},
   "outputs": [],
   "source": [
    "scores = {'zhangsan':100,'lisi':90,'wangwu':80,'maliu':70}\n",
    "name = input ('please input a name')\n",
    "print(scores[name])"
   ]
  },
  {
   "cell_type": "code",
   "execution_count": 1,
   "metadata": {},
   "outputs": [],
   "source": [
    "scores = {}\n",
    "#scores = dict{} 创建空字典\n",
    "scores['zhangsan'] = 100"
   ]
  },
  {
   "cell_type": "code",
   "execution_count": null,
   "metadata": {},
   "outputs": [],
   "source": [
    "scores"
   ]
  },
  {
   "cell_type": "code",
   "execution_count": null,
   "metadata": {},
   "outputs": [],
   "source": [
    "'zhangsan' in scores"
   ]
  },
  {
   "cell_type": "code",
   "execution_count": null,
   "metadata": {},
   "outputs": [],
   "source": [
    "'lisi' in scores"
   ]
  },
  {
   "cell_type": "code",
   "execution_count": 3,
   "metadata": {},
   "outputs": [
    {
     "name": "stdout",
     "output_type": "stream",
     "text": [
      "please input a name:lisi\n",
      "Name not found.\n",
      "please input a name:sag\n",
      "Name not found.\n",
      "please input a name:asg\n",
      "Name not found.\n",
      "please input a name:zhangsan\n",
      "100\n"
     ]
    }
   ],
   "source": [
    "while True:\n",
    "    name = input('please input a name: ')\n",
    "    if name in scores:\n",
    "        print(scores[name])\n",
    "        break\n",
    "    else:\n",
    "        print('Name not found.')\n",
    "        quit"
   ]
  },
  {
   "cell_type": "code",
   "execution_count": 53,
   "metadata": {},
   "outputs": [],
   "source": [
    "scores['lisi'] = 90"
   ]
  },
  {
   "cell_type": "code",
   "execution_count": 55,
   "metadata": {},
   "outputs": [
    {
     "data": {
      "text/plain": [
       "{'zhangsan': 100, 'lisi': 90}"
      ]
     },
     "execution_count": 55,
     "metadata": {},
     "output_type": "execute_result"
    }
   ],
   "source": [
    "scores"
   ]
  },
  {
   "cell_type": "code",
   "execution_count": 2,
   "metadata": {},
   "outputs": [],
   "source": [
    "scores = {}.fromkeys(['zhangsan','lisi','wangwu','maliu'],100)"
   ]
  },
  {
   "cell_type": "code",
   "execution_count": 3,
   "metadata": {},
   "outputs": [
    {
     "data": {
      "text/plain": [
       "{'zhangsan': 100, 'lisi': 100, 'wangwu': 100, 'maliu': 100}"
      ]
     },
     "execution_count": 3,
     "metadata": {},
     "output_type": "execute_result"
    }
   ],
   "source": [
    "scores"
   ]
  },
  {
   "cell_type": "code",
   "execution_count": 2,
   "metadata": {},
   "outputs": [
    {
     "name": "stdout",
     "output_type": "stream",
     "text": [
      "{'a': 2, 'e': 5, 'i': 5, 'o': 1, 'u': 0}\n"
     ]
    }
   ],
   "source": [
    "str = 'hello, this is a test.I designed this test last night.'\n",
    "count = dict.fromkeys('aeiou',0)\n",
    "for ch in str:\n",
    "    if ch in 'aeiou':\n",
    "        count[ch] += 1\n",
    "print(count)"
   ]
  },
  {
   "cell_type": "code",
   "execution_count": 3,
   "metadata": {},
   "outputs": [
    {
     "name": "stdout",
     "output_type": "stream",
     "text": [
      "2\n"
     ]
    }
   ],
   "source": [
    "print(count.get('a'))"
   ]
  },
  {
   "cell_type": "code",
   "execution_count": 5,
   "metadata": {},
   "outputs": [
    {
     "name": "stdout",
     "output_type": "stream",
     "text": [
      "please input a name:zhangsan\n",
      "please input a score:100\n",
      "zhangsan's score is 100\n"
     ]
    }
   ],
   "source": [
    "student = dict.fromkeys('name','score')\n",
    "student['name'] = input('please input a name:')\n",
    "student['score'] = int(input('please input a score:'))\n",
    "print(\"{}'s score is {}\".format(student['name'],student['score']))"
   ]
  },
  {
   "cell_type": "code",
   "execution_count": 3,
   "metadata": {},
   "outputs": [
    {
     "name": "stdout",
     "output_type": "stream",
     "text": [
      "['San Zhao', 'San Qian', 'San Sun', 'San Li', 'San Zhou', 'San Wu', 'San Zheng', 'San Wang', 'Si Zhao', 'Si Qian', 'Si Sun', 'Si Li', 'Si Zhou', 'Si Wu', 'Si Zheng', 'Si Wang', 'Wu Zhao', 'Wu Qian', 'Wu Sun', 'Wu Li', 'Wu Zhou', 'Wu Wu', 'Wu Zheng', 'Wu Wang', 'Liu Zhao', 'Liu Qian', 'Liu Sun', 'Liu Li', 'Liu Zhou', 'Liu Wu', 'Liu Zheng', 'Liu Wang', 'Jia Zhao', 'Jia Qian', 'Jia Sun', 'Jia Li', 'Jia Zhou', 'Jia Wu', 'Jia Zheng', 'Jia Wang', 'Yi Zhao', 'Yi Qian', 'Yi Sun', 'Yi Li', 'Yi Zhou', 'Yi Wu', 'Yi Zheng', 'Yi Wang', 'Bing Zhao', 'Bing Qian', 'Bing Sun', 'Bing Li', 'Bing Zhou', 'Bing Wu', 'Bing Zheng', 'Bing Wang', 'Ding Zhao', 'Ding Qian', 'Ding Sun', 'Ding Li', 'Ding Zhou', 'Ding Wu', 'Ding Zheng', 'Ding Wang']\n"
     ]
    }
   ],
   "source": [
    "first_names = ['San','Si','Wu','Liu','Jia','Yi','Bing','Ding']\n",
    "last_names=['Zhao','Qian','Sun','Li','Zhou','Wu','Zheng','Wang']\n",
    "names = list()\n",
    "\n",
    "for first_name in first_names:\n",
    "    for last_name in last_names:\n",
    "        names.append(first_name + ' '+ last_name)\n",
    "        \n",
    "print(names)"
   ]
  },
  {
   "cell_type": "code",
   "execution_count": 4,
   "metadata": {},
   "outputs": [
    {
     "data": {
      "text/plain": [
       "'Jia Qian'"
      ]
     },
     "execution_count": 4,
     "metadata": {},
     "output_type": "execute_result"
    }
   ],
   "source": [
    "import random\n",
    "random.choice(names)"
   ]
  },
  {
   "cell_type": "code",
   "execution_count": 7,
   "metadata": {},
   "outputs": [
    {
     "name": "stdout",
     "output_type": "stream",
     "text": [
      "67 98 77 94 63 69 93 80 69 68 100 55 74 93 97 74 96 74 40 100 77 100 77 100 89 81 100 55 63 58 100 100 83 100 100 100 100 98 54 68 75 62 68 90 68 99 66 82 37 52 87 93 96 93 67 43 77 80 76 41 90 39 62 100 83 85 91 43 76 95 77 69 66 92 93 100 65 59 89 37 100 94 66 99 71 81 89 98 75 73 95 47 92 81 75 100 59 66 70 57 "
     ]
    }
   ],
   "source": [
    "import math\n",
    "for i in range(0,100):\n",
    "    score = math.ceil(random.gauss(75,20))\n",
    "    if score > 100:score = 100\n",
    "    elif score < 0:score = 0\n",
    "    print(score,end = ' ')"
   ]
  },
  {
   "cell_type": "code",
   "execution_count": 9,
   "metadata": {},
   "outputs": [
    {
     "name": "stdout",
     "output_type": "stream",
     "text": [
      "89 44 83 43 59 100 3 87 17 59 40 68 42 74 15 65 18 13 8 10 4 85 11 24 20 46 17 66 43 100 76 60 48 9 81 15 22 72 92 14 3 17 43 7 37 23 29 100 14 72 61 89 36 81 64 20 2 34 60 75 86 98 83 91 47 11 60 49 31 100 62 28 71 91 40 55 96 86 32 92 57 99 70 54 9 36 38 63 86 93 43 95 53 5 19 93 59 63 14 98 "
     ]
    }
   ],
   "source": [
    "import math\n",
    "for i in range(0,100):\n",
    "    score = random.randint(0,100)\n",
    "    print(score,end = ' ')"
   ]
  },
  {
   "cell_type": "code",
   "execution_count": 25,
   "metadata": {},
   "outputs": [
    {
     "name": "stdout",
     "output_type": "stream",
     "text": [
      "{'Bing Li': {'math': 61, 'physcis': 80, 'python': 85},\n",
      " 'Bing Qian': {'math': 69, 'physcis': 85, 'python': 60},\n",
      " 'Bing Sun': {'math': 73, 'physcis': 63, 'python': 100},\n",
      " 'Bing Wang': {'math': 86, 'physcis': 71, 'python': 100},\n",
      " 'Bing Wu': {'math': 86, 'physcis': 64, 'python': 91},\n",
      " 'Bing Zhao': {'math': 68, 'physcis': 75, 'python': 100},\n",
      " 'Bing Zheng': {'math': 100, 'physcis': 42, 'python': 57},\n",
      " 'Bing Zhou': {'math': 83, 'physcis': 75, 'python': 80},\n",
      " 'Ding Li': {'math': 66, 'physcis': 83, 'python': 85},\n",
      " 'Ding Qian': {'math': 64, 'physcis': 54, 'python': 66},\n",
      " 'Ding Sun': {'math': 45, 'physcis': 79, 'python': 99},\n",
      " 'Ding Wang': {'math': 88, 'physcis': 76, 'python': 90},\n",
      " 'Ding Wu': {'math': 58, 'physcis': 81, 'python': 77},\n",
      " 'Ding Zhao': {'math': 100, 'physcis': 76, 'python': 100},\n",
      " 'Ding Zheng': {'math': 56, 'physcis': 51, 'python': 100},\n",
      " 'Ding Zhou': {'math': 61, 'physcis': 100, 'python': 64},\n",
      " 'Jia Li': {'math': 42, 'physcis': 84, 'python': 67},\n",
      " 'Jia Qian': {'math': 85, 'physcis': 72, 'python': 100},\n",
      " 'Jia Sun': {'math': 76, 'physcis': 75, 'python': 100},\n",
      " 'Jia Wang': {'math': 47, 'physcis': 52, 'python': 100},\n",
      " 'Jia Wu': {'math': 27, 'physcis': 56, 'python': 53},\n",
      " 'Jia Zhao': {'math': 63, 'physcis': 74, 'python': 68},\n",
      " 'Jia Zheng': {'math': 85, 'physcis': 100, 'python': 67},\n",
      " 'Jia Zhou': {'math': 100, 'physcis': 52, 'python': 83},\n",
      " 'Liu Li': {'math': 94, 'physcis': 84, 'python': 79},\n",
      " 'Liu Qian': {'math': 69, 'physcis': 45, 'python': 65},\n",
      " 'Liu Sun': {'math': 57, 'physcis': 45, 'python': 100},\n",
      " 'Liu Wang': {'math': 98, 'physcis': 71, 'python': 66},\n",
      " 'Liu Wu': {'math': 79, 'physcis': 79, 'python': 96},\n",
      " 'Liu Zhao': {'math': 41, 'physcis': 94, 'python': 50},\n",
      " 'Liu Zheng': {'math': 84, 'physcis': 71, 'python': 71},\n",
      " 'Liu Zhou': {'math': 99, 'physcis': 100, 'python': 38},\n",
      " 'San Li': {'math': 72, 'physcis': 83, 'python': 55},\n",
      " 'San Qian': {'math': 73, 'physcis': 63, 'python': 100},\n",
      " 'San Sun': {'math': 99, 'physcis': 84, 'python': 66},\n",
      " 'San Wang': {'math': 48, 'physcis': 69, 'python': 78},\n",
      " 'San Wu': {'math': 58, 'physcis': 98, 'python': 52},\n",
      " 'San Zhao': {'math': 50, 'physcis': 49, 'python': 94},\n",
      " 'San Zheng': {'math': 37, 'physcis': 72, 'python': 74},\n",
      " 'San Zhou': {'math': 77, 'physcis': 31, 'python': 38},\n",
      " 'Si Li': {'math': 100, 'physcis': 100, 'python': 76},\n",
      " 'Si Qian': {'math': 81, 'physcis': 96, 'python': 50},\n",
      " 'Si Sun': {'math': 70, 'physcis': 56, 'python': 64},\n",
      " 'Si Wang': {'math': 81, 'physcis': 96, 'python': 64},\n",
      " 'Si Wu': {'math': 84, 'physcis': 88, 'python': 80},\n",
      " 'Si Zhao': {'math': 60, 'physcis': 95, 'python': 45},\n",
      " 'Si Zheng': {'math': 100, 'physcis': 81, 'python': 88},\n",
      " 'Si Zhou': {'math': 88, 'physcis': 74, 'python': 48},\n",
      " 'Wu Li': {'math': 70, 'physcis': 40, 'python': 83},\n",
      " 'Wu Qian': {'math': 86, 'physcis': 81, 'python': 48},\n",
      " 'Wu Sun': {'math': 65, 'physcis': 100, 'python': 42},\n",
      " 'Wu Wang': {'math': 86, 'physcis': 84, 'python': 71},\n",
      " 'Wu Wu': {'math': 96, 'physcis': 57, 'python': 39},\n",
      " 'Wu Zhao': {'math': 71, 'physcis': 64, 'python': 69},\n",
      " 'Wu Zheng': {'math': 89, 'physcis': 66, 'python': 51},\n",
      " 'Wu Zhou': {'math': 80, 'physcis': 56, 'python': 89},\n",
      " 'Yi Li': {'math': 67, 'physcis': 79, 'python': 73},\n",
      " 'Yi Qian': {'math': 66, 'physcis': 58, 'python': 62},\n",
      " 'Yi Sun': {'math': 92, 'physcis': 73, 'python': 48},\n",
      " 'Yi Wang': {'math': 84, 'physcis': 80, 'python': 48},\n",
      " 'Yi Wu': {'math': 83, 'physcis': 40, 'python': 66},\n",
      " 'Yi Zhao': {'math': 43, 'physcis': 32, 'python': 47},\n",
      " 'Yi Zheng': {'math': 93, 'physcis': 95, 'python': 69},\n",
      " 'Yi Zhou': {'math': 60, 'physcis': 78, 'python': 88}}\n"
     ]
    }
   ],
   "source": [
    "import pprint\n",
    "def get_random_score():\n",
    "    score = math.ceil(random.gauss(75,20))\n",
    "    if score > 100:score = 100\n",
    "    elif score < 0:score = 0\n",
    "    return score\n",
    "\n",
    "\n",
    "score_db = {}\n",
    "score_template = {}.fromkeys(['physcis','math','python'])\n",
    "for name in names:\n",
    "    scores = score_template.copy()\n",
    "    \n",
    "    scores['physcis'] = get_random_score()\n",
    "    scores['math'] = get_random_score()\n",
    "    scores['python'] = get_random_score()\n",
    "    \n",
    "    score_db[name] = scores\n",
    "\n",
    "pprint.pprint(score_db)"
   ]
  },
  {
   "cell_type": "code",
   "execution_count": 14,
   "metadata": {},
   "outputs": [
    {
     "name": "stdout",
     "output_type": "stream",
     "text": [
      "7\n"
     ]
    }
   ],
   "source": [
    "def add(a,b):\n",
    "    return a + b\n",
    "\n",
    "print(add(3,4))"
   ]
  },
  {
   "cell_type": "code",
   "execution_count": 27,
   "metadata": {},
   "outputs": [
    {
     "name": "stdout",
     "output_type": "stream",
     "text": [
      "please input a name: Wu Zhao\n",
      "Physics: 64\n",
      "Math: 71\n",
      "Python: 69\n",
      "Total: 204\n"
     ]
    }
   ],
   "source": [
    "name = input('please input a name: ')\n",
    "if name in score_db:\n",
    "    print('Physics:',score_db[name]['physcis'])\n",
    "    print('Math:',score_db[name]['math'])\n",
    "    print('Python:',score_db[name]['python'])\n",
    "    print('Total:',score_db[name]['physcis']+score_db[name]['math']+score_db[name]['python'])\n",
    "\n",
    "else:\n",
    "    print('Not found.')"
   ]
  },
  {
   "cell_type": "code",
   "execution_count": 30,
   "metadata": {},
   "outputs": [
    {
     "name": "stdout",
     "output_type": "stream",
     "text": [
      "Name:  San Zhao\n",
      "Physics: 49  Math: 50  Python: 94  Total: 193\n",
      "Name:  San Qian\n",
      "Physics: 63  Math: 73  Python: 100  Total: 236\n",
      "Name:  San Sun\n",
      "Physics: 84  Math: 99  Python: 66  Total: 249\n",
      "Name:  San Li\n",
      "Physics: 83  Math: 72  Python: 55  Total: 210\n",
      "Name:  San Zhou\n",
      "Physics: 31  Math: 77  Python: 38  Total: 146\n",
      "Name:  San Wu\n",
      "Physics: 98  Math: 58  Python: 52  Total: 208\n",
      "Name:  San Zheng\n",
      "Physics: 72  Math: 37  Python: 74  Total: 183\n",
      "Name:  San Wang\n",
      "Physics: 69  Math: 48  Python: 78  Total: 195\n",
      "Name:  Si Zhao\n",
      "Physics: 95  Math: 60  Python: 45  Total: 200\n",
      "Name:  Si Qian\n",
      "Physics: 96  Math: 81  Python: 50  Total: 227\n",
      "Name:  Si Sun\n",
      "Physics: 56  Math: 70  Python: 64  Total: 190\n",
      "Name:  Si Li\n",
      "Physics: 100  Math: 100  Python: 76  Total: 276\n",
      "Name:  Si Zhou\n",
      "Physics: 74  Math: 88  Python: 48  Total: 210\n",
      "Name:  Si Wu\n",
      "Physics: 88  Math: 84  Python: 80  Total: 252\n",
      "Name:  Si Zheng\n",
      "Physics: 81  Math: 100  Python: 88  Total: 269\n",
      "Name:  Si Wang\n",
      "Physics: 96  Math: 81  Python: 64  Total: 241\n",
      "Name:  Wu Zhao\n",
      "Physics: 64  Math: 71  Python: 69  Total: 204\n",
      "Name:  Wu Qian\n",
      "Physics: 81  Math: 86  Python: 48  Total: 215\n",
      "Name:  Wu Sun\n",
      "Physics: 100  Math: 65  Python: 42  Total: 207\n",
      "Name:  Wu Li\n",
      "Physics: 40  Math: 70  Python: 83  Total: 193\n",
      "Name:  Wu Zhou\n",
      "Physics: 56  Math: 80  Python: 89  Total: 225\n",
      "Name:  Wu Wu\n",
      "Physics: 57  Math: 96  Python: 39  Total: 192\n",
      "Name:  Wu Zheng\n",
      "Physics: 66  Math: 89  Python: 51  Total: 206\n",
      "Name:  Wu Wang\n",
      "Physics: 84  Math: 86  Python: 71  Total: 241\n",
      "Name:  Liu Zhao\n",
      "Physics: 94  Math: 41  Python: 50  Total: 185\n",
      "Name:  Liu Qian\n",
      "Physics: 45  Math: 69  Python: 65  Total: 179\n",
      "Name:  Liu Sun\n",
      "Physics: 45  Math: 57  Python: 100  Total: 202\n",
      "Name:  Liu Li\n",
      "Physics: 84  Math: 94  Python: 79  Total: 257\n",
      "Name:  Liu Zhou\n",
      "Physics: 100  Math: 99  Python: 38  Total: 237\n",
      "Name:  Liu Wu\n",
      "Physics: 79  Math: 79  Python: 96  Total: 254\n",
      "Name:  Liu Zheng\n",
      "Physics: 71  Math: 84  Python: 71  Total: 226\n",
      "Name:  Liu Wang\n",
      "Physics: 71  Math: 98  Python: 66  Total: 235\n",
      "Name:  Jia Zhao\n",
      "Physics: 74  Math: 63  Python: 68  Total: 205\n",
      "Name:  Jia Qian\n",
      "Physics: 72  Math: 85  Python: 100  Total: 257\n",
      "Name:  Jia Sun\n",
      "Physics: 75  Math: 76  Python: 100  Total: 251\n",
      "Name:  Jia Li\n",
      "Physics: 84  Math: 42  Python: 67  Total: 193\n",
      "Name:  Jia Zhou\n",
      "Physics: 52  Math: 100  Python: 83  Total: 235\n",
      "Name:  Jia Wu\n",
      "Physics: 56  Math: 27  Python: 53  Total: 136\n",
      "Name:  Jia Zheng\n",
      "Physics: 100  Math: 85  Python: 67  Total: 252\n",
      "Name:  Jia Wang\n",
      "Physics: 52  Math: 47  Python: 100  Total: 199\n",
      "Name:  Yi Zhao\n",
      "Physics: 32  Math: 43  Python: 47  Total: 122\n",
      "Name:  Yi Qian\n",
      "Physics: 58  Math: 66  Python: 62  Total: 186\n",
      "Name:  Yi Sun\n",
      "Physics: 73  Math: 92  Python: 48  Total: 213\n",
      "Name:  Yi Li\n",
      "Physics: 79  Math: 67  Python: 73  Total: 219\n",
      "Name:  Yi Zhou\n",
      "Physics: 78  Math: 60  Python: 88  Total: 226\n",
      "Name:  Yi Wu\n",
      "Physics: 40  Math: 83  Python: 66  Total: 189\n",
      "Name:  Yi Zheng\n",
      "Physics: 95  Math: 93  Python: 69  Total: 257\n",
      "Name:  Yi Wang\n",
      "Physics: 80  Math: 84  Python: 48  Total: 212\n",
      "Name:  Bing Zhao\n",
      "Physics: 75  Math: 68  Python: 100  Total: 243\n",
      "Name:  Bing Qian\n",
      "Physics: 85  Math: 69  Python: 60  Total: 214\n",
      "Name:  Bing Sun\n",
      "Physics: 63  Math: 73  Python: 100  Total: 236\n",
      "Name:  Bing Li\n",
      "Physics: 80  Math: 61  Python: 85  Total: 226\n",
      "Name:  Bing Zhou\n",
      "Physics: 75  Math: 83  Python: 80  Total: 238\n",
      "Name:  Bing Wu\n",
      "Physics: 64  Math: 86  Python: 91  Total: 241\n",
      "Name:  Bing Zheng\n",
      "Physics: 42  Math: 100  Python: 57  Total: 199\n",
      "Name:  Bing Wang\n",
      "Physics: 71  Math: 86  Python: 100  Total: 257\n",
      "Name:  Ding Zhao\n",
      "Physics: 76  Math: 100  Python: 100  Total: 276\n",
      "Name:  Ding Qian\n",
      "Physics: 54  Math: 64  Python: 66  Total: 184\n",
      "Name:  Ding Sun\n",
      "Physics: 79  Math: 45  Python: 99  Total: 223\n",
      "Name:  Ding Li\n",
      "Physics: 83  Math: 66  Python: 85  Total: 234\n",
      "Name:  Ding Zhou\n",
      "Physics: 100  Math: 61  Python: 64  Total: 225\n",
      "Name:  Ding Wu\n",
      "Physics: 81  Math: 58  Python: 77  Total: 216\n",
      "Name:  Ding Zheng\n",
      "Physics: 51  Math: 56  Python: 100  Total: 207\n",
      "Name:  Ding Wang\n",
      "Physics: 76  Math: 88  Python: 90  Total: 254\n",
      "Not found.\n"
     ]
    }
   ],
   "source": [
    "for name in score_db.keys():\n",
    "    print('Name: ',name)\n",
    "    print('Physics:',score_db[name]['physcis'],end = \"  \")\n",
    "    print('Math:',score_db[name]['math'],end = \"  \")\n",
    "    print('Python:',score_db[name]['python'],end = \"  \")\n",
    "    print('Total:',score_db[name]['physcis']+score_db[name]['math']+score_db[name]['python'])\n",
    "\n",
    "else:\n",
    "    print('Not found.')"
   ]
  },
  {
   "cell_type": "code",
   "execution_count": 35,
   "metadata": {},
   "outputs": [
    {
     "name": "stdout",
     "output_type": "stream",
     "text": [
      "Name\t\tPhysics\tMath\tPython\tTotal\t\n",
      "San Zhao      \t49\t50\t94\t193\n",
      "San Qian      \t63\t73\t100\t236\n",
      "San Sun       \t84\t99\t66\t249\n",
      "San Li        \t83\t72\t55\t210\n",
      "San Zhou      \t31\t77\t38\t146\n",
      "San Wu        \t98\t58\t52\t208\n",
      "San Zheng     \t72\t37\t74\t183\n",
      "San Wang      \t69\t48\t78\t195\n",
      "Si Zhao       \t95\t60\t45\t200\n",
      "Si Qian       \t96\t81\t50\t227\n",
      "Si Sun        \t56\t70\t64\t190\n",
      "Si Li         \t100\t100\t76\t276\n",
      "Si Zhou       \t74\t88\t48\t210\n",
      "Si Wu         \t88\t84\t80\t252\n",
      "Si Zheng      \t81\t100\t88\t269\n",
      "Si Wang       \t96\t81\t64\t241\n",
      "Wu Zhao       \t64\t71\t69\t204\n",
      "Wu Qian       \t81\t86\t48\t215\n",
      "Wu Sun        \t100\t65\t42\t207\n",
      "Wu Li         \t40\t70\t83\t193\n",
      "Wu Zhou       \t56\t80\t89\t225\n",
      "Wu Wu         \t57\t96\t39\t192\n",
      "Wu Zheng      \t66\t89\t51\t206\n",
      "Wu Wang       \t84\t86\t71\t241\n",
      "Liu Zhao      \t94\t41\t50\t185\n",
      "Liu Qian      \t45\t69\t65\t179\n",
      "Liu Sun       \t45\t57\t100\t202\n",
      "Liu Li        \t84\t94\t79\t257\n",
      "Liu Zhou      \t100\t99\t38\t237\n",
      "Liu Wu        \t79\t79\t96\t254\n",
      "Liu Zheng     \t71\t84\t71\t226\n",
      "Liu Wang      \t71\t98\t66\t235\n",
      "Jia Zhao      \t74\t63\t68\t205\n",
      "Jia Qian      \t72\t85\t100\t257\n",
      "Jia Sun       \t75\t76\t100\t251\n",
      "Jia Li        \t84\t42\t67\t193\n",
      "Jia Zhou      \t52\t100\t83\t235\n",
      "Jia Wu        \t56\t27\t53\t136\n",
      "Jia Zheng     \t100\t85\t67\t252\n",
      "Jia Wang      \t52\t47\t100\t199\n",
      "Yi Zhao       \t32\t43\t47\t122\n",
      "Yi Qian       \t58\t66\t62\t186\n",
      "Yi Sun        \t73\t92\t48\t213\n",
      "Yi Li         \t79\t67\t73\t219\n",
      "Yi Zhou       \t78\t60\t88\t226\n",
      "Yi Wu         \t40\t83\t66\t189\n",
      "Yi Zheng      \t95\t93\t69\t257\n",
      "Yi Wang       \t80\t84\t48\t212\n",
      "Bing Zhao     \t75\t68\t100\t243\n",
      "Bing Qian     \t85\t69\t60\t214\n",
      "Bing Sun      \t63\t73\t100\t236\n",
      "Bing Li       \t80\t61\t85\t226\n",
      "Bing Zhou     \t75\t83\t80\t238\n",
      "Bing Wu       \t64\t86\t91\t241\n",
      "Bing Zheng    \t42\t100\t57\t199\n",
      "Bing Wang     \t71\t86\t100\t257\n",
      "Ding Zhao     \t76\t100\t100\t276\n",
      "Ding Qian     \t54\t64\t66\t184\n",
      "Ding Sun      \t79\t45\t99\t223\n",
      "Ding Li       \t83\t66\t85\t234\n",
      "Ding Zhou     \t100\t61\t64\t225\n",
      "Ding Wu       \t81\t58\t77\t216\n",
      "Ding Zheng    \t51\t56\t100\t207\n",
      "Ding Wang     \t76\t88\t90\t254\n",
      "Not found.\n"
     ]
    }
   ],
   "source": [
    "print('Name\\t\\tPhysics\\tMath\\tPython\\tTotal\\t')\n",
    "for name in score_db.keys():\n",
    "    print('{:<14}'.format(name),end='\\t')\n",
    "    print(score_db[name]['physcis'],end='\\t')\n",
    "    print(score_db[name]['math'],end='\\t')\n",
    "    print(score_db[name]['python'],end='\\t')\n",
    "    print(score_db[name]['physcis']+score_db[name]['math']+score_db[name]['python'])\n",
    "\n",
    "else:\n",
    "    print('Not found.')"
   ]
  },
  {
   "cell_type": "code",
   "execution_count": 46,
   "metadata": {},
   "outputs": [
    {
     "name": "stdout",
     "output_type": "stream",
     "text": [
      "Ding Wang     \t100\t100\t76\t276\n",
      "Ding Wang     \t76\t100\t100\t276\n",
      "Ding Wang     \t81\t100\t88\t269\n",
      "Ding Wang     \t84\t94\t79\t257\n",
      "Ding Wang     \t72\t85\t100\t257\n",
      "Ding Wang     \t95\t93\t69\t257\n",
      "Ding Wang     \t71\t86\t100\t257\n",
      "Ding Wang     \t79\t79\t96\t254\n",
      "Ding Wang     \t76\t88\t90\t254\n",
      "Ding Wang     \t88\t84\t80\t252\n",
      "Ding Wang     \t100\t85\t67\t252\n",
      "Ding Wang     \t75\t76\t100\t251\n",
      "Ding Wang     \t84\t99\t66\t249\n",
      "Ding Wang     \t75\t68\t100\t243\n",
      "Ding Wang     \t96\t81\t64\t241\n",
      "Ding Wang     \t84\t86\t71\t241\n",
      "Ding Wang     \t64\t86\t91\t241\n",
      "Ding Wang     \t75\t83\t80\t238\n",
      "Ding Wang     \t100\t99\t38\t237\n",
      "Ding Wang     \t63\t73\t100\t236\n",
      "Ding Wang     \t63\t73\t100\t236\n",
      "Ding Wang     \t71\t98\t66\t235\n",
      "Ding Wang     \t52\t100\t83\t235\n",
      "Ding Wang     \t83\t66\t85\t234\n",
      "Ding Wang     \t96\t81\t50\t227\n",
      "Ding Wang     \t71\t84\t71\t226\n",
      "Ding Wang     \t78\t60\t88\t226\n",
      "Ding Wang     \t80\t61\t85\t226\n",
      "Ding Wang     \t56\t80\t89\t225\n",
      "Ding Wang     \t100\t61\t64\t225\n",
      "Ding Wang     \t79\t45\t99\t223\n",
      "Ding Wang     \t79\t67\t73\t219\n",
      "Ding Wang     \t81\t58\t77\t216\n",
      "Ding Wang     \t81\t86\t48\t215\n",
      "Ding Wang     \t85\t69\t60\t214\n",
      "Ding Wang     \t73\t92\t48\t213\n",
      "Ding Wang     \t80\t84\t48\t212\n",
      "Ding Wang     \t83\t72\t55\t210\n",
      "Ding Wang     \t74\t88\t48\t210\n",
      "Ding Wang     \t98\t58\t52\t208\n",
      "Ding Wang     \t100\t65\t42\t207\n",
      "Ding Wang     \t51\t56\t100\t207\n",
      "Ding Wang     \t66\t89\t51\t206\n",
      "Ding Wang     \t74\t63\t68\t205\n",
      "Ding Wang     \t64\t71\t69\t204\n",
      "Ding Wang     \t45\t57\t100\t202\n",
      "Ding Wang     \t95\t60\t45\t200\n",
      "Ding Wang     \t52\t47\t100\t199\n",
      "Ding Wang     \t42\t100\t57\t199\n",
      "Ding Wang     \t69\t48\t78\t195\n",
      "Ding Wang     \t49\t50\t94\t193\n",
      "Ding Wang     \t40\t70\t83\t193\n",
      "Ding Wang     \t84\t42\t67\t193\n",
      "Ding Wang     \t57\t96\t39\t192\n",
      "Ding Wang     \t56\t70\t64\t190\n",
      "Ding Wang     \t40\t83\t66\t189\n",
      "Ding Wang     \t58\t66\t62\t186\n",
      "Ding Wang     \t94\t41\t50\t185\n",
      "Ding Wang     \t54\t64\t66\t184\n",
      "Ding Wang     \t72\t37\t74\t183\n",
      "Ding Wang     \t45\t69\t65\t179\n",
      "Ding Wang     \t31\t77\t38\t146\n",
      "Ding Wang     \t56\t27\t53\t136\n",
      "Ding Wang     \t32\t43\t47\t122\n",
      "Not found.\n"
     ]
    }
   ],
   "source": [
    "def total(item):\n",
    "    return item[1]['physcis']+item[1]['math']+item[1]['python']\n",
    "items = score_db.items()#字典转化为list\n",
    "sorted_scores=sorted(items,key=total,reverse=True)#按照分数排序\n",
    "\n",
    "for item in sorted_scores:\n",
    "    print('{:<14}'.format(name),end='\\t')\n",
    "    print(item[1]['physcis'],end='\\t')\n",
    "    print(item[1]['math'],end='\\t')\n",
    "    print(item[1]['python'],end='\\t')\n",
    "    print(item[1]['physcis']+item[1]['math']+item[1]['python'])\n",
    "\n",
    "else:\n",
    "    print('Not found.')"
   ]
  },
  {
   "cell_type": "code",
   "execution_count": null,
   "metadata": {},
   "outputs": [],
   "source": []
  }
 ],
 "metadata": {
  "kernelspec": {
   "display_name": "Python 3",
   "language": "python",
   "name": "python3"
  },
  "language_info": {
   "codemirror_mode": {
    "name": "ipython",
    "version": 3
   },
   "file_extension": ".py",
   "mimetype": "text/x-python",
   "name": "python",
   "nbconvert_exporter": "python",
   "pygments_lexer": "ipython3",
   "version": "3.7.3"
  }
 },
 "nbformat": 4,
 "nbformat_minor": 2
}
